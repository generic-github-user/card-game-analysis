{
 "cells": [
  {
   "cell_type": "code",
   "execution_count": null,
   "id": "4f23c29a-3a4b-431b-b281-2409c441c99f",
   "metadata": {},
   "outputs": [],
   "source": []
  }
 ],
 "metadata": {
  "kernelspec": {
   "display_name": "Python 3",
   "language": "python",
   "name": "python3"
  },
  "language_info": {
   "name": ""
  }
 },
 "nbformat": 4,
 "nbformat_minor": 5
}
